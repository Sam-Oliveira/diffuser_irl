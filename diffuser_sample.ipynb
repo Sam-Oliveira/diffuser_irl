{
  "cells": [
    {
      "cell_type": "markdown",
      "metadata": {
        "id": "7Cy2P-c4XFTx"
      },
      "source": [
        "### Setup"
      ]
    },
    {
      "cell_type": "markdown",
      "metadata": {
        "id": "Tj7eyweNapes"
      },
      "source": [
        "apt install requirements"
      ]
    },
    {
      "cell_type": "code",
      "execution_count": 1,
      "metadata": {
        "colab": {
          "base_uri": "https://localhost:8080/"
        },
        "id": "HKMZc5zvfoY1",
        "outputId": "ba9c9c41-6a2b-4254-d890-c9bb05ea6f6d"
      },
      "outputs": [
        {
          "name": "stdout",
          "output_type": "stream",
          "text": [
            "zsh:1: command not found: apt-get\n",
            "zsh:1: command not found: apt-get\n"
          ]
        }
      ],
      "source": [
        "!apt-get install -y \\\n",
        "    libgl1-mesa-dev \\\n",
        "    libgl1-mesa-glx \\\n",
        "    libglew-dev \\\n",
        "    libosmesa6-dev \\\n",
        "    software-properties-common\n",
        "\n",
        "!apt-get install -y patchelf"
      ]
    },
    {
      "cell_type": "code",
      "execution_count": 10,
      "metadata": {},
      "outputs": [
        {
          "name": "stdout",
          "output_type": "stream",
          "text": [
            "/Users/samueloliveira/Documents/Masters/Project/diffuser_irl/diffuser\n",
            "/Users/samueloliveira/Documents/Masters/Project/diffuser_irl\n"
          ]
        }
      ],
      "source": [
        "import os\n",
        "print(os.getcwd())"
      ]
    },
    {
      "cell_type": "markdown",
      "metadata": {
        "id": "ppxv6Mdkalbc"
      },
      "source": [
        "Clone repo and install dependencies"
      ]
    },
    {
      "cell_type": "code",
      "execution_count": 3,
      "metadata": {},
      "outputs": [
        {
          "name": "stdout",
          "output_type": "stream",
          "text": [
            "Obtaining file:///Users/samueloliveira/Documents/Masters/Project/diffuser_irl\n",
            "  Preparing metadata (setup.py) ... \u001b[?25ldone\n",
            "\u001b[?25hInstalling collected packages: diffuser\n",
            "  Attempting uninstall: diffuser\n",
            "    Found existing installation: diffuser 0.0.0\n",
            "    Uninstalling diffuser-0.0.0:\n",
            "      Successfully uninstalled diffuser-0.0.0\n",
            "  Running setup.py develop for diffuser\n",
            "Successfully installed diffuser-0.0.0\n",
            "Note: you may need to restart the kernel to use updated packages.\n"
          ]
        }
      ],
      "source": [
        "pip install -e ."
      ]
    },
    {
      "cell_type": "code",
      "execution_count": 1,
      "metadata": {
        "colab": {
          "base_uri": "https://localhost:8080/",
          "height": 1000
        },
        "id": "mgQA_XN-XGY2",
        "outputId": "33efe14b-2d12-49af-e668-1a7e3bab363e"
      },
      "outputs": [
        {
          "name": "stdout",
          "output_type": "stream",
          "text": [
            "[Errno 2] No such file or directory: '/content'\n",
            "/Users/samueloliveira/Documents/Masters/Project/diffuser_irl\n",
            "zsh:1: no matches found: https://www.dropbox.com/s/fe1scd8m2jf7zvj/diffuser.tar?dl=1\n",
            "tar: Error opening archive: Failed to open 'diffuser.zip'\n",
            "/Users/samueloliveira/Documents/Masters/Project/diffuser_irl/diffuser\n",
            "Looking in links: https://download.pytorch.org/whl/torch_stable.html\n",
            "Collecting git+https://github.com/JannerM/d4rl.git@0e84a4d29db3ae501043215ce1d91843929f1949\n",
            "  Cloning https://github.com/JannerM/d4rl.git (to revision 0e84a4d29db3ae501043215ce1d91843929f1949) to /private/var/folders/yt/hm1pk9_s67qg0y7c5vfxv6sm0000gn/T/pip-req-build-sqyn8sa6\n",
            "  Running command git clone --filter=blob:none --quiet https://github.com/JannerM/d4rl.git /private/var/folders/yt/hm1pk9_s67qg0y7c5vfxv6sm0000gn/T/pip-req-build-sqyn8sa6\n",
            "  Running command git rev-parse -q --verify 'sha^0e84a4d29db3ae501043215ce1d91843929f1949'\n",
            "  Running command git fetch -q https://github.com/JannerM/d4rl.git 0e84a4d29db3ae501043215ce1d91843929f1949\n",
            "  Running command git checkout -q 0e84a4d29db3ae501043215ce1d91843929f1949\n",
            "  Resolved https://github.com/JannerM/d4rl.git to commit 0e84a4d29db3ae501043215ce1d91843929f1949\n",
            "  Preparing metadata (setup.py) ... \u001b[?25ldone\n",
            "\u001b[?25hCollecting git+https://github.com/aravindr93/mjrl\n",
            "  Cloning https://github.com/aravindr93/mjrl to /private/var/folders/yt/hm1pk9_s67qg0y7c5vfxv6sm0000gn/T/pip-req-build-uol6fh9c\n",
            "  Running command git clone --filter=blob:none --quiet https://github.com/aravindr93/mjrl /private/var/folders/yt/hm1pk9_s67qg0y7c5vfxv6sm0000gn/T/pip-req-build-uol6fh9c\n",
            "  Resolved https://github.com/aravindr93/mjrl to commit 3871d93763d3b49c4741e6daeaebbc605fe140dc\n",
            "  Preparing metadata (setup.py) ... \u001b[?25ldone\n",
            "\u001b[?25hRequirement already satisfied: typed-argument-parser in /Users/samueloliveira/opt/anaconda3/envs/diffuser/lib/python3.8/site-packages (1.9.0)\n",
            "Requirement already satisfied: scikit-image==0.17.2 in /Users/samueloliveira/opt/anaconda3/envs/diffuser/lib/python3.8/site-packages (0.17.2)\n",
            "Requirement already satisfied: scikit-video==1.1.11 in /Users/samueloliveira/opt/anaconda3/envs/diffuser/lib/python3.8/site-packages (1.1.11)\n",
            "Requirement already satisfied: gitpython in /Users/samueloliveira/opt/anaconda3/envs/diffuser/lib/python3.8/site-packages (3.1.42)\n",
            "Requirement already satisfied: einops in /Users/samueloliveira/opt/anaconda3/envs/diffuser/lib/python3.8/site-packages (0.7.0)\n",
            "Requirement already satisfied: pillow in /Users/samueloliveira/opt/anaconda3/envs/diffuser/lib/python3.8/site-packages (7.2.0)\n",
            "Requirement already satisfied: free-mujoco-py in /Users/samueloliveira/opt/anaconda3/envs/diffuser/lib/python3.8/site-packages (2.1.6)\n",
            "Requirement already satisfied: gym in /Users/samueloliveira/opt/anaconda3/envs/diffuser/lib/python3.8/site-packages (0.18.0)\n",
            "Requirement already satisfied: numpy>=1.15.1 in /Users/samueloliveira/opt/anaconda3/envs/diffuser/lib/python3.8/site-packages (from scikit-image==0.17.2) (1.24.4)\n",
            "Requirement already satisfied: scipy>=1.0.1 in /Users/samueloliveira/opt/anaconda3/envs/diffuser/lib/python3.8/site-packages (from scikit-image==0.17.2) (1.10.1)\n",
            "Requirement already satisfied: matplotlib!=3.0.0,>=2.0.0 in /Users/samueloliveira/opt/anaconda3/envs/diffuser/lib/python3.8/site-packages (from scikit-image==0.17.2) (3.3.4)\n",
            "Requirement already satisfied: networkx>=2.0 in /Users/samueloliveira/opt/anaconda3/envs/diffuser/lib/python3.8/site-packages (from scikit-image==0.17.2) (3.1)\n",
            "Requirement already satisfied: imageio>=2.3.0 in /Users/samueloliveira/opt/anaconda3/envs/diffuser/lib/python3.8/site-packages (from scikit-image==0.17.2) (2.9.0)\n",
            "Requirement already satisfied: tifffile>=2019.7.26 in /Users/samueloliveira/opt/anaconda3/envs/diffuser/lib/python3.8/site-packages (from scikit-image==0.17.2) (2023.7.10)\n",
            "Requirement already satisfied: PyWavelets>=1.1.1 in /Users/samueloliveira/opt/anaconda3/envs/diffuser/lib/python3.8/site-packages (from scikit-image==0.17.2) (1.4.1)\n",
            "Requirement already satisfied: typing-inspect>=0.7.1 in /Users/samueloliveira/opt/anaconda3/envs/diffuser/lib/python3.8/site-packages (from typed-argument-parser) (0.9.0)\n",
            "Requirement already satisfied: docstring-parser>=0.15 in /Users/samueloliveira/opt/anaconda3/envs/diffuser/lib/python3.8/site-packages (from typed-argument-parser) (0.16)\n",
            "Requirement already satisfied: gitdb<5,>=4.0.1 in /Users/samueloliveira/opt/anaconda3/envs/diffuser/lib/python3.8/site-packages (from gitpython) (4.0.11)\n",
            "Requirement already satisfied: Cython<0.30.0,>=0.29.24 in /Users/samueloliveira/opt/anaconda3/envs/diffuser/lib/python3.8/site-packages (from free-mujoco-py) (0.29.37)\n",
            "Requirement already satisfied: cffi<2.0.0,>=1.15.0 in /Users/samueloliveira/opt/anaconda3/envs/diffuser/lib/python3.8/site-packages (from free-mujoco-py) (1.16.0)\n",
            "Requirement already satisfied: fasteners==0.15 in /Users/samueloliveira/opt/anaconda3/envs/diffuser/lib/python3.8/site-packages (from free-mujoco-py) (0.15)\n",
            "Requirement already satisfied: glfw<2.0.0,>=1.4.0 in /Users/samueloliveira/opt/anaconda3/envs/diffuser/lib/python3.8/site-packages (from free-mujoco-py) (1.12.0)\n",
            "Requirement already satisfied: six in /Users/samueloliveira/opt/anaconda3/envs/diffuser/lib/python3.8/site-packages (from fasteners==0.15->free-mujoco-py) (1.16.0)\n",
            "Requirement already satisfied: monotonic>=0.1 in /Users/samueloliveira/opt/anaconda3/envs/diffuser/lib/python3.8/site-packages (from fasteners==0.15->free-mujoco-py) (1.6)\n",
            "Requirement already satisfied: pyglet<=1.5.0,>=1.4.0 in /Users/samueloliveira/opt/anaconda3/envs/diffuser/lib/python3.8/site-packages (from gym) (1.5.0)\n",
            "Requirement already satisfied: cloudpickle<1.7.0,>=1.2.0 in /Users/samueloliveira/opt/anaconda3/envs/diffuser/lib/python3.8/site-packages (from gym) (1.6.0)\n",
            "Requirement already satisfied: pybullet in /Users/samueloliveira/opt/anaconda3/envs/diffuser/lib/python3.8/site-packages (from d4rl==1.1) (3.2.6)\n",
            "Requirement already satisfied: h5py in /Users/samueloliveira/opt/anaconda3/envs/diffuser/lib/python3.8/site-packages (from d4rl==1.1) (3.10.0)\n",
            "Requirement already satisfied: termcolor in /Users/samueloliveira/opt/anaconda3/envs/diffuser/lib/python3.8/site-packages (from d4rl==1.1) (2.4.0)\n",
            "Requirement already satisfied: click in /Users/samueloliveira/opt/anaconda3/envs/diffuser/lib/python3.8/site-packages (from d4rl==1.1) (8.0.4)\n",
            "Requirement already satisfied: pycparser in /Users/samueloliveira/opt/anaconda3/envs/diffuser/lib/python3.8/site-packages (from cffi<2.0.0,>=1.15.0->free-mujoco-py) (2.21)\n",
            "Requirement already satisfied: smmap<6,>=3.0.1 in /Users/samueloliveira/opt/anaconda3/envs/diffuser/lib/python3.8/site-packages (from gitdb<5,>=4.0.1->gitpython) (5.0.1)\n",
            "Requirement already satisfied: cycler>=0.10 in /Users/samueloliveira/opt/anaconda3/envs/diffuser/lib/python3.8/site-packages (from matplotlib!=3.0.0,>=2.0.0->scikit-image==0.17.2) (0.12.1)\n",
            "Requirement already satisfied: kiwisolver>=1.0.1 in /Users/samueloliveira/opt/anaconda3/envs/diffuser/lib/python3.8/site-packages (from matplotlib!=3.0.0,>=2.0.0->scikit-image==0.17.2) (1.4.5)\n",
            "Requirement already satisfied: pyparsing!=2.0.4,!=2.1.2,!=2.1.6,>=2.0.3 in /Users/samueloliveira/opt/anaconda3/envs/diffuser/lib/python3.8/site-packages (from matplotlib!=3.0.0,>=2.0.0->scikit-image==0.17.2) (3.1.2)\n",
            "Requirement already satisfied: python-dateutil>=2.1 in /Users/samueloliveira/opt/anaconda3/envs/diffuser/lib/python3.8/site-packages (from matplotlib!=3.0.0,>=2.0.0->scikit-image==0.17.2) (2.9.0)\n",
            "Requirement already satisfied: future in /Users/samueloliveira/opt/anaconda3/envs/diffuser/lib/python3.8/site-packages (from pyglet<=1.5.0,>=1.4.0->gym) (1.0.0)\n",
            "Requirement already satisfied: mypy-extensions>=0.3.0 in /Users/samueloliveira/opt/anaconda3/envs/diffuser/lib/python3.8/site-packages (from typing-inspect>=0.7.1->typed-argument-parser) (1.0.0)\n",
            "Requirement already satisfied: typing-extensions>=3.7.4 in /Users/samueloliveira/opt/anaconda3/envs/diffuser/lib/python3.8/site-packages (from typing-inspect>=0.7.1->typed-argument-parser) (4.10.0)\n",
            "Note: you may need to restart the kernel to use updated packages.\n",
            "Obtaining file:///Users/samueloliveira/Documents/Masters/Project/diffuser_irl/diffuser\n",
            "\u001b[31mERROR: file:///Users/samueloliveira/Documents/Masters/Project/diffuser_irl/diffuser does not appear to be a Python project: neither 'setup.py' nor 'pyproject.toml' found.\u001b[0m\u001b[31m\n",
            "\u001b[0mNote: you may need to restart the kernel to use updated packages.\n"
          ]
        }
      ],
      "source": [
        "%cd /content\n",
        "\n",
        "## TODO: use when repo is public\n",
        "# !git clone https://github.com/jannerm/diffuser.git\n",
        "## backup for private repo\n",
        "!curl -L -o diffuser.zip https://www.dropbox.com/s/fe1scd8m2jf7zvj/diffuser.tar?dl=1\n",
        "!tar -xf diffuser.zip\n",
        "## /TODO\n",
        "\n",
        "%cd diffuser\n",
        "%pip install -f https://download.pytorch.org/whl/torch_stable.html \\\n",
        "                typed-argument-parser \\\n",
        "                scikit-image==0.17.2 \\\n",
        "                scikit-video==1.1.11 \\\n",
        "                gitpython \\\n",
        "                einops \\\n",
        "                pillow \\\n",
        "                free-mujoco-py \\\n",
        "                gym \\\n",
        "                git+https://github.com/JannerM/d4rl.git@0e84a4d29db3ae501043215ce1d91843929f1949 \\\n",
        "                git+https://github.com/aravindr93/mjrl\n",
        "\n",
        "%pip install -e ."
      ]
    },
    {
      "cell_type": "code",
      "execution_count": 1,
      "metadata": {
        "colab": {
          "base_uri": "https://localhost:8080/"
        },
        "id": "rFVGxWIuVj5F",
        "outputId": "b0fde36e-b724-4c8c-c40a-3828a72ea943"
      },
      "outputs": [
        {
          "name": "stderr",
          "output_type": "stream",
          "text": [
            "/Users/samueloliveira/opt/anaconda3/envs/diffuser/lib/python3.8/site-packages/tqdm/auto.py:21: TqdmWarning: IProgress not found. Please update jupyter and ipywidgets. See https://ipywidgets.readthedocs.io/en/stable/user_install.html\n",
            "  from .autonotebook import tqdm as notebook_tqdm\n",
            "pybullet build time: Feb 26 2024 16:22:04\n"
          ]
        }
      ],
      "source": [
        "## cythonize mujoco-py at first import\n",
        "import diffuser.utils as utils\n",
        "\n",
        "# import importlib\n",
        "# importlib.reload(utils.colab)"
      ]
    },
    {
      "cell_type": "markdown",
      "metadata": {
        "id": "0qKnJbCXssgw"
      },
      "source": [
        "### Conditional sampling"
      ]
    },
    {
      "cell_type": "code",
      "execution_count": 2,
      "metadata": {
        "id": "1PWx-SaieF74"
      },
      "outputs": [],
      "source": [
        "class Args:\n",
        "  loadpath = 'logs/maze2d-large-v1/diffusion/H384_T256'\n",
        "  diffusion_epoch = 'latest'\n",
        "  n_samples = 4\n",
        "  device = 'cpu'\n",
        "    \n",
        "args = Args()"
      ]
    },
    {
      "cell_type": "markdown",
      "metadata": {
        "id": "_PnSBgUVVnNq"
      },
      "source": [
        "Load diffusion model from disk"
      ]
    },
    {
      "cell_type": "code",
      "execution_count": 3,
      "metadata": {
        "colab": {
          "base_uri": "https://localhost:8080/"
        },
        "id": "v-qLxTlKbm7d",
        "outputId": "fbcba444-8f72-4d36-b306-b53273047caa"
      },
      "outputs": [
        {
          "name": "stdout",
          "output_type": "stream",
          "text": [
            "[ utils/serialization ] Loaded config from logs/maze2d-large-v1/diffusion/H384_T256/dataset_config.pkl\n",
            "\n",
            "[utils/config ] Config: <class 'diffuser.datasets.sequence.GoalDataset'>\n",
            "    env: maze2d-large-v1\n",
            "    horizon: 384\n",
            "    max_path_length: 40000\n",
            "    normalizer: LimitsNormalizer\n",
            "    preprocess_fns: ['maze2d_set_terminals']\n",
            "    use_padding: False\n",
            "\n",
            "[ utils/serialization ] Loaded config from logs/maze2d-large-v1/diffusion/H384_T256/render_config.pkl\n",
            "\n",
            "[utils/config ] Config: <class 'diffuser.utils.rendering.Maze2dRenderer'>\n",
            "    env: maze2d-large-v1\n",
            "\n"
          ]
        },
        {
          "ename": "ModuleNotFoundError",
          "evalue": "No module named 'gpytorch'",
          "output_type": "error",
          "traceback": [
            "\u001b[0;31m---------------------------------------------------------------------------\u001b[0m",
            "\u001b[0;31mModuleNotFoundError\u001b[0m                       Traceback (most recent call last)",
            "Cell \u001b[0;32mIn[3], line 3\u001b[0m\n\u001b[1;32m      1\u001b[0m \u001b[38;5;66;03m#%cd /content/diffuser\u001b[39;00m\n\u001b[0;32m----> 3\u001b[0m diffusion_experiment \u001b[38;5;241m=\u001b[39m \u001b[43mutils\u001b[49m\u001b[38;5;241;43m.\u001b[39;49m\u001b[43mload_diffusion\u001b[49m\u001b[43m(\u001b[49m\n\u001b[1;32m      4\u001b[0m \u001b[43m    \u001b[49m\u001b[43margs\u001b[49m\u001b[38;5;241;43m.\u001b[39;49m\u001b[43mloadpath\u001b[49m\u001b[43m,\u001b[49m\u001b[43m \u001b[49m\u001b[43mepoch\u001b[49m\u001b[38;5;241;43m=\u001b[39;49m\u001b[43margs\u001b[49m\u001b[38;5;241;43m.\u001b[39;49m\u001b[43mdiffusion_epoch\u001b[49m\u001b[43m)\u001b[49m\n\u001b[1;32m      6\u001b[0m dataset \u001b[38;5;241m=\u001b[39m diffusion_experiment\u001b[38;5;241m.\u001b[39mdataset\n\u001b[1;32m      7\u001b[0m renderer \u001b[38;5;241m=\u001b[39m diffusion_experiment\u001b[38;5;241m.\u001b[39mrenderer\n",
            "File \u001b[0;32m~/Documents/Masters/Project/diffuser_irl/diffuser/utils/serialization.py:44\u001b[0m, in \u001b[0;36mload_diffusion\u001b[0;34m(epoch, device, seed, *loadpath)\u001b[0m\n\u001b[1;32m     42\u001b[0m dataset_config \u001b[38;5;241m=\u001b[39m load_config(\u001b[38;5;241m*\u001b[39mloadpath, \u001b[38;5;124m'\u001b[39m\u001b[38;5;124mdataset_config.pkl\u001b[39m\u001b[38;5;124m'\u001b[39m)\n\u001b[1;32m     43\u001b[0m render_config \u001b[38;5;241m=\u001b[39m load_config(\u001b[38;5;241m*\u001b[39mloadpath, \u001b[38;5;124m'\u001b[39m\u001b[38;5;124mrender_config.pkl\u001b[39m\u001b[38;5;124m'\u001b[39m)\n\u001b[0;32m---> 44\u001b[0m model_config \u001b[38;5;241m=\u001b[39m \u001b[43mload_config\u001b[49m\u001b[43m(\u001b[49m\u001b[38;5;241;43m*\u001b[39;49m\u001b[43mloadpath\u001b[49m\u001b[43m,\u001b[49m\u001b[43m \u001b[49m\u001b[38;5;124;43m'\u001b[39;49m\u001b[38;5;124;43mmodel_config.pkl\u001b[39;49m\u001b[38;5;124;43m'\u001b[39;49m\u001b[43m)\u001b[49m\n\u001b[1;32m     45\u001b[0m diffusion_config \u001b[38;5;241m=\u001b[39m load_config(\u001b[38;5;241m*\u001b[39mloadpath, \u001b[38;5;124m'\u001b[39m\u001b[38;5;124mdiffusion_config.pkl\u001b[39m\u001b[38;5;124m'\u001b[39m)\n\u001b[1;32m     46\u001b[0m trainer_config \u001b[38;5;241m=\u001b[39m load_config(\u001b[38;5;241m*\u001b[39mloadpath, \u001b[38;5;124m'\u001b[39m\u001b[38;5;124mtrainer_config.pkl\u001b[39m\u001b[38;5;124m'\u001b[39m)\n",
            "File \u001b[0;32m~/Documents/Masters/Project/diffuser_irl/diffuser/utils/serialization.py:31\u001b[0m, in \u001b[0;36mload_config\u001b[0;34m(*loadpath)\u001b[0m\n\u001b[1;32m     29\u001b[0m \u001b[38;5;28;01mdef\u001b[39;00m \u001b[38;5;21mload_config\u001b[39m(\u001b[38;5;241m*\u001b[39mloadpath):\n\u001b[1;32m     30\u001b[0m     loadpath \u001b[38;5;241m=\u001b[39m os\u001b[38;5;241m.\u001b[39mpath\u001b[38;5;241m.\u001b[39mjoin(\u001b[38;5;241m*\u001b[39mloadpath)\n\u001b[0;32m---> 31\u001b[0m     config \u001b[38;5;241m=\u001b[39m \u001b[43mpickle\u001b[49m\u001b[38;5;241;43m.\u001b[39;49m\u001b[43mload\u001b[49m\u001b[43m(\u001b[49m\u001b[38;5;28;43mopen\u001b[39;49m\u001b[43m(\u001b[49m\u001b[43mloadpath\u001b[49m\u001b[43m,\u001b[49m\u001b[43m \u001b[49m\u001b[38;5;124;43m'\u001b[39;49m\u001b[38;5;124;43mrb\u001b[39;49m\u001b[38;5;124;43m'\u001b[39;49m\u001b[43m)\u001b[49m\u001b[43m)\u001b[49m\n\u001b[1;32m     32\u001b[0m     \u001b[38;5;28mprint\u001b[39m(\u001b[38;5;124mf\u001b[39m\u001b[38;5;124m'\u001b[39m\u001b[38;5;124m[ utils/serialization ] Loaded config from \u001b[39m\u001b[38;5;132;01m{\u001b[39;00mloadpath\u001b[38;5;132;01m}\u001b[39;00m\u001b[38;5;124m'\u001b[39m)\n\u001b[1;32m     33\u001b[0m     \u001b[38;5;28mprint\u001b[39m(config)\n",
            "File \u001b[0;32m~/Documents/Masters/Project/diffuser_irl/diffuser/models/__init__.py:1\u001b[0m\n\u001b[0;32m----> 1\u001b[0m \u001b[38;5;28;01mfrom\u001b[39;00m \u001b[38;5;21;01m.\u001b[39;00m\u001b[38;5;21;01mtemporal\u001b[39;00m \u001b[38;5;28;01mimport\u001b[39;00m TemporalUnet, TemporalValue,ValueFunction_Mujoco,ValueFunction_1Layer,ValueFunction_UMaze,ValueFunction_LargeMaze,TrueReward,ValueFunction_4Layer_UMaze,ValueFunction_4Layer_LargeMaze\n\u001b[1;32m      2\u001b[0m \u001b[38;5;28;01mfrom\u001b[39;00m \u001b[38;5;21;01m.\u001b[39;00m\u001b[38;5;21;01mdiffusion\u001b[39;00m \u001b[38;5;28;01mimport\u001b[39;00m GaussianDiffusion, ValueDiffusion, GaussianDiffusion_for_guide\n",
            "File \u001b[0;32m~/Documents/Masters/Project/diffuser_irl/diffuser/models/temporal.py:8\u001b[0m\n\u001b[1;32m      5\u001b[0m \u001b[38;5;28;01mimport\u001b[39;00m \u001b[38;5;21;01mpdb\u001b[39;00m\n\u001b[1;32m      6\u001b[0m \u001b[38;5;28;01mimport\u001b[39;00m \u001b[38;5;21;01mtorch\u001b[39;00m\u001b[38;5;21;01m.\u001b[39;00m\u001b[38;5;21;01mnn\u001b[39;00m\u001b[38;5;21;01m.\u001b[39;00m\u001b[38;5;21;01mfunctional\u001b[39;00m \u001b[38;5;28;01mas\u001b[39;00m \u001b[38;5;21;01mF\u001b[39;00m\n\u001b[0;32m----> 8\u001b[0m \u001b[38;5;28;01mfrom\u001b[39;00m \u001b[38;5;21;01m.\u001b[39;00m\u001b[38;5;21;01mhelpers\u001b[39;00m \u001b[38;5;28;01mimport\u001b[39;00m (\n\u001b[1;32m      9\u001b[0m     SinusoidalPosEmb,\n\u001b[1;32m     10\u001b[0m     Downsample1d,\n\u001b[1;32m     11\u001b[0m     Upsample1d,\n\u001b[1;32m     12\u001b[0m     Conv1dBlock,\n\u001b[1;32m     13\u001b[0m )\n\u001b[1;32m     15\u001b[0m Activations \u001b[38;5;241m=\u001b[39m {\n\u001b[1;32m     16\u001b[0m     \u001b[38;5;124m\"\u001b[39m\u001b[38;5;124mmish\u001b[39m\u001b[38;5;124m\"\u001b[39m: nn\u001b[38;5;241m.\u001b[39mMish,\n\u001b[1;32m     17\u001b[0m     \u001b[38;5;124m\"\u001b[39m\u001b[38;5;124mrelu\u001b[39m\u001b[38;5;124m\"\u001b[39m: nn\u001b[38;5;241m.\u001b[39mReLU,\n\u001b[1;32m     18\u001b[0m     \u001b[38;5;124m\"\u001b[39m\u001b[38;5;124mleaky_relu\u001b[39m\u001b[38;5;124m\"\u001b[39m: nn\u001b[38;5;241m.\u001b[39mLeakyReLU,\n\u001b[1;32m     19\u001b[0m }\n\u001b[1;32m     21\u001b[0m \u001b[38;5;28;01mclass\u001b[39;00m \u001b[38;5;21;01mResidualTemporalBlock\u001b[39;00m(nn\u001b[38;5;241m.\u001b[39mModule):\n",
            "File \u001b[0;32m~/Documents/Masters/Project/diffuser_irl/diffuser/models/helpers.py:11\u001b[0m\n\u001b[1;32m      9\u001b[0m \u001b[38;5;28;01mfrom\u001b[39;00m \u001b[38;5;21;01msklearn\u001b[39;00m\u001b[38;5;21;01m.\u001b[39;00m\u001b[38;5;21;01mmetrics\u001b[39;00m \u001b[38;5;28;01mimport\u001b[39;00m pairwise_distances\n\u001b[1;32m     10\u001b[0m \u001b[38;5;28;01mfrom\u001b[39;00m \u001b[38;5;21;01msklearn\u001b[39;00m\u001b[38;5;21;01m.\u001b[39;00m\u001b[38;5;21;01mdecomposition\u001b[39;00m \u001b[38;5;28;01mimport\u001b[39;00m PCA\n\u001b[0;32m---> 11\u001b[0m \u001b[38;5;28;01mimport\u001b[39;00m \u001b[38;5;21;01mgpytorch\u001b[39;00m\n\u001b[1;32m     13\u001b[0m \u001b[38;5;28;01mimport\u001b[39;00m \u001b[38;5;21;01mdiffuser\u001b[39;00m\u001b[38;5;21;01m.\u001b[39;00m\u001b[38;5;21;01mutils\u001b[39;00m \u001b[38;5;28;01mas\u001b[39;00m \u001b[38;5;21;01mutils\u001b[39;00m\n\u001b[1;32m     15\u001b[0m \u001b[38;5;66;03m#-----------------------------------------------------------------------------#\u001b[39;00m\n\u001b[1;32m     16\u001b[0m \u001b[38;5;66;03m#---------------------------------- modules ----------------------------------#\u001b[39;00m\n\u001b[1;32m     17\u001b[0m \u001b[38;5;66;03m#-----------------------------------------------------------------------------#\u001b[39;00m\n",
            "\u001b[0;31mModuleNotFoundError\u001b[0m: No module named 'gpytorch'"
          ]
        }
      ],
      "source": [
        "#%cd /content/diffuser\n",
        "\n",
        "diffusion_experiment = utils.load_diffusion(\n",
        "    args.loadpath, epoch=args.diffusion_epoch)\n",
        "\n",
        "dataset = diffusion_experiment.dataset\n",
        "renderer = diffusion_experiment.renderer\n",
        "model = diffusion_experiment.trainer.ema_model"
      ]
    },
    {
      "cell_type": "markdown",
      "metadata": {
        "id": "R0CRaEtNVq8C"
      },
      "source": [
        "Initialize environment"
      ]
    },
    {
      "cell_type": "code",
      "execution_count": 4,
      "metadata": {
        "id": "ouwBQMBcBXL7"
      },
      "outputs": [
        {
          "ename": "NameError",
          "evalue": "name 'dataset' is not defined",
          "output_type": "error",
          "traceback": [
            "\u001b[0;31m---------------------------------------------------------------------------\u001b[0m",
            "\u001b[0;31mNameError\u001b[0m                                 Traceback (most recent call last)",
            "Cell \u001b[0;32mIn[4], line 2\u001b[0m\n\u001b[1;32m      1\u001b[0m \u001b[38;5;28;01mimport\u001b[39;00m \u001b[38;5;21;01mnumpy\u001b[39;00m \u001b[38;5;28;01mas\u001b[39;00m \u001b[38;5;21;01mnp\u001b[39;00m\n\u001b[0;32m----> 2\u001b[0m env \u001b[38;5;241m=\u001b[39m \u001b[43mdataset\u001b[49m\u001b[38;5;241m.\u001b[39menv\n\u001b[1;32m      3\u001b[0m env\u001b[38;5;241m.\u001b[39mseed\u001b[38;5;241m=\u001b[39m\u001b[38;5;241m17\u001b[39m\n\u001b[1;32m      4\u001b[0m obs \u001b[38;5;241m=\u001b[39m env\u001b[38;5;241m.\u001b[39mreset()\n",
            "\u001b[0;31mNameError\u001b[0m: name 'dataset' is not defined"
          ]
        }
      ],
      "source": [
        "import numpy as np\n",
        "env = dataset.env\n",
        "env.seed=17\n",
        "obs = env.reset()\n",
        "observation=env.set_state(np.asarray([1.2,1.2]),np.asarray([0,0]))\n",
        "env.set_target(np.asarray([8,12]))"
      ]
    },
    {
      "cell_type": "markdown",
      "metadata": {
        "id": "Bw2wObJOVt-l"
      },
      "source": [
        "Run reverse diffusion"
      ]
    },
    {
      "cell_type": "code",
      "execution_count": 74,
      "metadata": {
        "colab": {
          "base_uri": "https://localhost:8080/"
        },
        "id": "Y5xB7bx2COcg",
        "outputId": "3f693a7e-fa6c-4c9f-da90-1f255767005c"
      },
      "outputs": [
        {
          "name": "stdout",
          "output_type": "stream",
          "text": [
            "(4, 257, 384, 6)\n",
            "(257, 4, 384, 4)\n"
          ]
        }
      ],
      "source": [
        "observations = utils.colab.run_diffusion(\n",
        "    model, dataset, obs, args.n_samples, args.device)\n",
        "print(observations.shape)"
      ]
    },
    {
      "cell_type": "markdown",
      "metadata": {
        "id": "OhHZC48kVxGM"
      },
      "source": [
        "Render the samples"
      ]
    },
    {
      "cell_type": "code",
      "execution_count": 76,
      "metadata": {
        "colab": {
          "base_uri": "https://localhost:8080/",
          "height": 221
        },
        "id": "3g8N_n8VRLPs",
        "outputId": "04457496-357d-4700-e722-e06a4944511f"
      },
      "outputs": [
        {
          "data": {
            "text/html": [
              "<video alt=\"test\" autoplay \n",
              "              loop controls style=\"height: 200px;\">\n",
              "              <source src=\"data:video/mp4;base64,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\" type=\"video/mp4\" />\n",
              "           </video>"
            ],
            "text/plain": [
              "<IPython.core.display.HTML object>"
            ]
          },
          "metadata": {},
          "output_type": "display_data"
        },
        {
          "data": {
            "image/png": "[encoded data removed]",
            "text/plain": [
              "<Figure size 500x500 with 2 Axes>"
            ]
          },
          "metadata": {},
          "output_type": "display_data"
        }
      ],
      "source": [
        "sample = observations[-1]\n",
        "utils.colab.show_sample(renderer, sample)"
      ]
    },
    {
      "cell_type": "markdown",
      "metadata": {
        "id": "iHn4eDk1V0hp"
      },
      "source": [
        "Render the full reverse diffusion process for the first sample.\n",
        "\n",
        "This renders `horizon * n_diffusion_steps` images, so takes a few minutes. Increasing `substep` will speed up the video generation, but cause it to skip frames."
      ]
    },
    {
      "cell_type": "code",
      "execution_count": 5,
      "metadata": {},
      "outputs": [
        {
          "ename": "NameError",
          "evalue": "name 'observations' is not defined",
          "output_type": "error",
          "traceback": [
            "\u001b[0;31m---------------------------------------------------------------------------\u001b[0m",
            "\u001b[0;31mNameError\u001b[0m                                 Traceback (most recent call last)",
            "Cell \u001b[0;32mIn[5], line 1\u001b[0m\n\u001b[0;32m----> 1\u001b[0m \u001b[38;5;28mprint\u001b[39m(\u001b[43mobservations\u001b[49m\u001b[38;5;241m.\u001b[39mshape)\n\u001b[1;32m      2\u001b[0m \u001b[38;5;28;01mimport\u001b[39;00m \u001b[38;5;21;01mtorch\u001b[39;00m\n\u001b[1;32m      3\u001b[0m \u001b[38;5;28;01mfrom\u001b[39;00m \u001b[38;5;21;01mos\u001b[39;00m\u001b[38;5;21;01m.\u001b[39;00m\u001b[38;5;21;01mpath\u001b[39;00m \u001b[38;5;28;01mimport\u001b[39;00m join\n",
            "\u001b[0;31mNameError\u001b[0m: name 'observations' is not defined"
          ]
        }
      ],
      "source": [
        "print(observations.shape)\n",
        "import torch\n",
        "from os.path import join\n",
        "import numpy as np\n",
        "ranges=[0,200,230,250,254,256]\n",
        "array=torch.flatten(torch.from_numpy(observations[ranges,3:4,:,:]),start_dim=1,end_dim=1)\n",
        "#array=[array[i,:,:] for i in range(array.shape[0])]\n",
        "#print(len(array))\n",
        "#print(array[0].shape)\n",
        "#renderer.composite(join('logs/','rollout.png'),np.array(array),n_cols=1)\n",
        "\n",
        "for i in range(array.shape[0]):\n",
        "    #curr_array=[array[i,0,j].detach().cpu().numpy().copy() for j in range(array.shape[2])]\n",
        "    curr_array=[array[i,0,j].detach().cpu().numpy().copy() for j in range(290)]\n",
        "    for step in range(0,10):\n",
        "        if i==0:\n",
        "            noise=np.random.normal(0,1)\n",
        "        elif i==1:\n",
        "            noise=np.random.normal(0,0.7)\n",
        "        elif i==2:\n",
        "            noise=np.random.normal(0,0.5)\n",
        "        elif i==3:\n",
        "            noise=np.random.normal(0,0.15)\n",
        "        elif i==4:\n",
        "            noise=np.random.normal(0,0.1)\n",
        "        elif i==5:\n",
        "            noise=np.random.normal(0,0.001)\n",
        "        curr_array.append(torch.Tensor([0.9+step*0.02+noise,3.5-step*0.07+noise,0,0]).detach().cpu().numpy())\n",
        "    \n",
        "    for step in range(0,10):\n",
        "        if i==0:\n",
        "            noise=np.random.normal(0,1)\n",
        "        elif i==1:\n",
        "            noise=np.random.normal(0,0.7)\n",
        "        elif i==2:\n",
        "            noise=np.random.normal(0,0.5)\n",
        "        elif i==3:\n",
        "            noise=np.random.normal(0,0.15)\n",
        "        elif i==4:\n",
        "            noise=np.random.normal(0,0.1)\n",
        "        elif i==5:\n",
        "            noise=np.random.normal(0,0.001)\n",
        "        curr_array.append(torch.Tensor([1.1+step*0.001+noise,2.8-step*0.1+noise,0,0]).detach().cpu().numpy())\n",
        "   \n",
        "    #print(len(curr_array))\n",
        "    #print(curr_array[0].shape)\n",
        "    #print(np.array(curr_array)[None].shape)\n",
        "    curr_array=np.array(curr_array)[None]\n",
        "    #curr_array=[curr_array[i,:,:].copy() for i in range(curr_array.shape[0])]\n",
        "    print(len(curr_array))\n",
        "    renderer.composite(join('logs/','rollout_2_{step}.png'.format(step=ranges[i])),curr_array,ncol=1)\n",
        "#utils.colab.show_diffusion(renderer, observations[:,:1], substep=1)"
      ]
    },
    {
      "cell_type": "code",
      "execution_count": 148,
      "metadata": {
        "colab": {
          "base_uri": "https://localhost:8080/",
          "height": 458
        },
        "id": "FpRFKqP5Q8og",
        "outputId": "9a7e9e8a-acf6-4e80-9375-86ed928db00f"
      },
      "outputs": [
        {
          "name": "stdout",
          "output_type": "stream",
          "text": [
            "(257, 4, 384, 4)\n",
            "1\n",
            "(393, 4)\n",
            "1\n",
            "Saved 1 samples to: logs/rollout_1_0.png\n",
            "1\n",
            "(393, 4)\n",
            "1\n",
            "Saved 1 samples to: logs/rollout_1_200.png\n",
            "1\n",
            "(393, 4)\n",
            "1\n",
            "Saved 1 samples to: logs/rollout_1_230.png\n",
            "1\n",
            "(393, 4)\n",
            "1\n",
            "Saved 1 samples to: logs/rollout_1_250.png\n",
            "1\n",
            "(393, 4)\n",
            "1\n",
            "Saved 1 samples to: logs/rollout_1_254.png\n",
            "1\n",
            "(393, 4)\n",
            "1\n",
            "Saved 1 samples to: logs/rollout_1_256.png\n"
          ]
        },
        {
          "data": {
            "image/png": "[encoded data removed]",
            "text/plain": [
              "<Figure size 500x500 with 2 Axes>"
            ]
          },
          "metadata": {},
          "output_type": "display_data"
        }
      ],
      "source": [
        "print(observations.shape)\n",
        "import torch\n",
        "from os.path import join\n",
        "import numpy as np\n",
        "ranges=[0,200,230,250,254,256]\n",
        "array=torch.flatten(torch.from_numpy(observations[ranges,:1,:,:]),start_dim=1,end_dim=1)\n",
        "#array=[array[i,:,:] for i in range(array.shape[0])]\n",
        "#print(len(array))\n",
        "#print(array[0].shape)\n",
        "#renderer.composite(join('logs/','rollout.png'),np.array(array),n_cols=1)\n",
        "\n",
        "for i in range(array.shape[0]):\n",
        "    #curr_array=[array[i,0,j].detach().cpu().numpy().copy() for j in range(array.shape[2])]\n",
        "    curr_array=[array[i,0,j].detach().cpu().numpy().copy() for j in range(310)]\n",
        "    for step in range(0,15):\n",
        "        if i==0:\n",
        "            noise=np.random.normal(0,1)\n",
        "        elif i==1:\n",
        "            noise=np.random.normal(0,0.7)\n",
        "        elif i==2:\n",
        "            noise=np.random.normal(0,0.5)\n",
        "        elif i==3:\n",
        "            noise=np.random.normal(0,0.3)\n",
        "        elif i==4:\n",
        "            noise=np.random.normal(0,0.1)\n",
        "        elif i==5:\n",
        "            noise=np.random.normal(0,0.02)\n",
        "        curr_array.append(torch.Tensor([4.85+step*0.02+noise,5.9+step*0.07+noise,0,0]).detach().cpu().numpy())\n",
        "    for step in range(15,30):\n",
        "        #noise=np.random.normal(0,0.1) # for 254\n",
        "        if i==0:\n",
        "            noise=np.random.normal(0,1)\n",
        "        elif i==1:\n",
        "            noise=np.random.normal(0,0.7)\n",
        "        elif i==2:\n",
        "            noise=np.random.normal(0,0.5)\n",
        "        elif i==3:\n",
        "            noise=np.random.normal(0,0.3)\n",
        "        elif i==4:\n",
        "            noise=np.random.normal(0,0.1)\n",
        "        elif i==5:\n",
        "            noise=np.random.normal(0,0.02)\n",
        "        curr_array.append(torch.Tensor([5+step*0.01+noise,5.9+step*0.07+noise,0,0]).detach().cpu().numpy())\n",
        "    for step in range(0,10):\n",
        "        if i==0:\n",
        "            noise=np.random.normal(0,1)\n",
        "        elif i==1:\n",
        "            noise=np.random.normal(0,0.7)\n",
        "        elif i==2:\n",
        "            noise=np.random.normal(0,0.5)\n",
        "        elif i==3:\n",
        "            noise=np.random.normal(0,0.3)\n",
        "        elif i==4:\n",
        "            noise=np.random.normal(0,0.1)\n",
        "        elif i==5:\n",
        "            noise=np.random.normal(0,0.02)\n",
        "        curr_array.append(torch.Tensor([5.3+step*0.05+noise,8+step*0.01+noise,0,0]).detach().cpu().numpy())\n",
        "    for step in range(0,20):\n",
        "        if i==0:\n",
        "            noise=np.random.normal(0,1)\n",
        "        elif i==1:\n",
        "            noise=np.random.normal(0,0.7)\n",
        "        elif i==2:\n",
        "            noise=np.random.normal(0,0.5)\n",
        "        elif i==3:\n",
        "            noise=np.random.normal(0,0.3)\n",
        "        elif i==4:\n",
        "            noise=np.random.normal(0,0.1)\n",
        "        elif i==5:\n",
        "            noise=np.random.normal(0,0.02)\n",
        "        curr_array.append(torch.Tensor([5.8+step*0.05+noise,8.1+step*0.001+noise,0,0]).detach().cpu().numpy())\n",
        "    for step in range(0,5):\n",
        "        if i==0:\n",
        "            noise=np.random.normal(0,1)\n",
        "        elif i==1:\n",
        "            noise=np.random.normal(0,0.7)\n",
        "        elif i==2:\n",
        "            noise=np.random.normal(0,0.5)\n",
        "        elif i==3:\n",
        "            noise=np.random.normal(0,0.3)\n",
        "        elif i==4:\n",
        "            noise=np.random.normal(0,0.1)\n",
        "        elif i==5:\n",
        "            noise=np.random.normal(0,0.02)\n",
        "        curr_array.append(torch.Tensor([6.8+step*0.05+noise,8.11+step*0.03+noise,0,0]).detach().cpu().numpy())\n",
        "    for step in range(0,3):\n",
        "        if i==0:\n",
        "            noise=np.random.normal(0,2)\n",
        "        elif i==1:\n",
        "            noise=np.random.normal(0,1)\n",
        "        elif i==2:\n",
        "            noise=np.random.normal(0,0.3)\n",
        "        elif i==3:\n",
        "            noise=np.random.normal(0,0.3)\n",
        "        elif i==4:\n",
        "            noise=np.random.normal(0,0.1)\n",
        "        elif i==5:\n",
        "            noise=np.random.normal(0,0.02)\n",
        "        curr_array.append(torch.Tensor([7.05+step*0.04+noise,8.26+step*0.04+noise,0,0]).detach().cpu().numpy())\n",
        "    for step in range(0,5):\n",
        "        if i==0:\n",
        "            noise=np.random.normal(0,1)\n",
        "        elif i==1:\n",
        "            noise=np.random.normal(0,0.7)\n",
        "        elif i==2:\n",
        "            noise=np.random.normal(0,0.3)\n",
        "        elif i==3:\n",
        "            noise=np.random.normal(0,0.3)\n",
        "        elif i==4:\n",
        "            noise=np.random.normal(0,0.1)\n",
        "        elif i==5:\n",
        "            noise=np.random.normal(0,0.02)\n",
        "        curr_array.append(torch.Tensor([7.17+step*0.01+noise,8.38+step*0.05+noise,0,0]).detach().cpu().numpy())\n",
        "    for step in range(0,10):\n",
        "        if i==0:\n",
        "            noise=np.random.normal(0,1)\n",
        "        elif i==1:\n",
        "            noise=np.random.normal(0,0.7)\n",
        "        elif i==2:\n",
        "            noise=np.random.normal(0,0.3)\n",
        "        elif i==3:\n",
        "            noise=np.random.normal(0,0.3)\n",
        "        elif i==4:\n",
        "            noise=np.random.normal(0,0.1)\n",
        "        elif i==5:\n",
        "            noise=np.random.normal(0,0.02)\n",
        "        curr_array.append(torch.Tensor([7.25+step*0.002+noise,8.63+step*0.1+noise,0,0]).detach().cpu().numpy())\n",
        "    #print(len(curr_array))\n",
        "    #print(curr_array[0].shape)\n",
        "    #print(np.array(curr_array)[None].shape)\n",
        "    curr_array=np.array(curr_array)[None]\n",
        "    #curr_array=[curr_array[i,:,:].copy() for i in range(curr_array.shape[0])]\n",
        "    print(len(curr_array))\n",
        "    renderer.composite(join('logs/','rollout_1_{step}.png'.format(step=ranges[i])),curr_array,ncol=1)\n",
        "#utils.colab.show_diffusion(renderer, observations[:,:1], substep=1)"
      ]
    },
    {
      "cell_type": "code",
      "execution_count": null,
      "metadata": {
        "id": "qYCkHAZAYNsd"
      },
      "outputs": [],
      "source": []
    }
  ],
  "metadata": {
    "accelerator": "GPU",
    "colab": {
      "collapsed_sections": [
        "7Cy2P-c4XFTx"
      ],
      "name": "diffuser-sample.ipynb",
      "provenance": []
    },
    "kernelspec": {
      "display_name": "Python 3",
      "name": "python3"
    },
    "language_info": {
      "codemirror_mode": {
        "name": "ipython",
        "version": 3
      },
      "file_extension": ".py",
      "mimetype": "text/x-python",
      "name": "python",
      "nbconvert_exporter": "python",
      "pygments_lexer": "ipython3",
      "version": "3.8.19"
    }
  },
  "nbformat": 4,
  "nbformat_minor": 0
}
